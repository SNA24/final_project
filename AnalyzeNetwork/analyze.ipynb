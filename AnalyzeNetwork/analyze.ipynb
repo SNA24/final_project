{
 "cells": [
  {
   "cell_type": "code",
   "execution_count": 11,
   "metadata": {},
   "outputs": [],
   "source": [
    "\n",
    "import os, sys\n",
    "parent_dir = os.path.dirname(os.path.dirname(os.path.abspath('.')))\n",
    "sys.path.append(parent_dir)\n",
    "import matplotlib.pyplot as plt\n",
    "import numpy as np\n",
    "import random\n",
    "from lesson5 import *"
   ]
  },
  {
   "cell_type": "markdown",
   "metadata": {},
   "source": [
    "# Utilities"
   ]
  },
  {
   "cell_type": "code",
   "execution_count": 12,
   "metadata": {},
   "outputs": [],
   "source": [
    "\n",
    "class Analyzer:\n",
    "    \n",
    "    def __init__(self, network):\n",
    "        self.network = network\n",
    "        \n",
    "    def get_degree_distribution(self):\n",
    "        \"Returns the plot of the degree distribution with a log-log scale\"\n",
    "        \n",
    "        N = self.network.number_of_nodes()\n",
    "        degrees = [self.network.in_degree(n) for n in self.network.nodes()] if self.network.is_directed() else [self.network.degree(n) for n in self.network.nodes()]\n",
    "        \n",
    "        N_k = {}\n",
    "        for k in degrees:\n",
    "            if k not in N_k:\n",
    "                N_k[k] = 1\n",
    "            else:\n",
    "                N_k[k] += 1\n",
    "                \n",
    "        p_k = {}\n",
    "        for k in N_k:\n",
    "            p_k[k] = N_k[k] / N\n",
    "        \n",
    "        # Plotting in log-log scale\n",
    "        plt.figure(figsize=(8, 6))\n",
    "        plt.loglog(list(p_k.keys()), list(p_k.values()), marker='o', linestyle='None', color='b')\n",
    "        plt.title('Log-log Degree Distribution')\n",
    "        plt.xlabel('Degree')\n",
    "        plt.ylabel('Frequency')\n",
    "        plt.grid(True)\n",
    "\n",
    "        return plt"
   ]
  },
  {
   "cell_type": "markdown",
   "metadata": {},
   "source": [
    "# Random Graphs"
   ]
  },
  {
   "cell_type": "code",
   "execution_count": null,
   "metadata": {},
   "outputs": [],
   "source": [
    "n = 25000\n",
    "\n",
    "# take p randomly between 1/24999 and 1\n",
    "p = random.uniform(1/(n-1), 0.01)\n",
    "\n",
    "g1 = randomG(n, p)\n",
    "analyzer_g1 = Analyzer(g1)\n",
    "plt = analyzer_g1.get_degree_distribution()\n",
    "plt.show()"
   ]
  },
  {
   "cell_type": "code",
   "execution_count": null,
   "metadata": {},
   "outputs": [],
   "source": [
    "print(len(g1.edges()))\n",
    "print(len(g1.nodes()))"
   ]
  },
  {
   "cell_type": "code",
   "execution_count": null,
   "metadata": {},
   "outputs": [],
   "source": [
    "# save the graph\n",
    "print(p)"
   ]
  },
  {
   "cell_type": "code",
   "execution_count": null,
   "metadata": {},
   "outputs": [],
   "source": [
    "# save the graph\n",
    "print(stream_diam(g1))"
   ]
  },
  {
   "cell_type": "markdown",
   "metadata": {},
   "source": [
    "# Configuration model"
   ]
  },
  {
   "cell_type": "code",
   "execution_count": null,
   "metadata": {},
   "outputs": [],
   "source": [
    "import networkx as nx\n",
    "import numpy as np\n",
    "\n",
    "degree_distribution = [d for _, d in G.degree()]\n",
    "\n",
    "min = np.min(degree_distribution)\n",
    "max = np.max(degree_distribution)\n",
    "\n",
    "# normalize the degree distribution beteen 0 and max - min\n",
    "normalized_degree_distribution = [d - min for d in degree_distribution]\n",
    "\n",
    "if np.sum(normalized_degree_distribution) % 2 != 0:\n",
    "    normalized_degree_distribution[0] += 1\n",
    "\n",
    "# Generate the small graph\n",
    "small_graph = nx.configuration_model(normalized_degree_distribution[:3000])\n",
    "\n",
    "# Compute the degree distribution of the small graph\n",
    "analyzer_g2 = Analyzer(small_graph)\n",
    "plt = analyzer_g2.get_degree_distribution()\n",
    "plt.show()"
   ]
  },
  {
   "cell_type": "code",
   "execution_count": null,
   "metadata": {},
   "outputs": [],
   "source": [
    "nx.draw_networkx(small_graph, with_labels=False, linewidths=0.01, node_size=1, width=0.1)\n",
    "plt.show()"
   ]
  },
  {
   "cell_type": "markdown",
   "metadata": {},
   "source": [
    "# Preferential Attachment"
   ]
  },
  {
   "cell_type": "code",
   "execution_count": null,
   "metadata": {},
   "outputs": [],
   "source": [
    "from networks_gen import preferentialG\n",
    "import random\n",
    "\n",
    "# generate a preferential graph for n = 25000 and different values of p (between 0 excluded and 1 included) and plot the degree distribution for each graph\n",
    "n = 25000\n",
    "\n",
    "ps = [0.01, 0.1, 0.5, 0.7, 1]\n",
    "\n",
    "# take p randomly between 1/24999 and 1\n",
    "for p in ps:\n",
    "    g2 = preferentialG(n, p)\n",
    "    analyzer_g2 = Analyzer(g2)\n",
    "    print(len(g2.edges()))\n",
    "    plt = analyzer_g2.get_degree_distribution()\n",
    "    plt.show()"
   ]
  },
  {
   "cell_type": "markdown",
   "metadata": {},
   "source": [
    "# Generalized Watts-Strogatz"
   ]
  },
  {
   "cell_type": "code",
   "execution_count": null,
   "metadata": {},
   "outputs": [],
   "source": [
    "import networkx as nx\n",
    "import numpy as np\n",
    "from networks_gen import GenWS2DG\n",
    "\n",
    "# degree_distribution = [d for _, d in G.degree()]\n",
    "\n",
    "# min = np.min(degree_distribution)\n",
    "# max = np.max(degree_distribution)\n",
    "\n",
    "# # normalize the degree distribution beteen 0 and max - min\n",
    "# normalized_degree_distribution = [d - min for d in degree_distribution]\n",
    "\n",
    "# normalized_degree_distribution = normalized_degree_distribution[:3000]\n",
    "\n",
    "# if np.sum(normalized_degree_distribution) % 2 != 0:\n",
    "#     normalized_degree_distribution[-1] += 1\n",
    "\n",
    "# Generate the small graph\n",
    "small_graph = GenWS2DG(2500, 1, 1000, 1)\n",
    "\n",
    "# Compute the degree distribution of the small graph\n",
    "analyzer_g2 = Analyzer(small_graph)\n",
    "plt = analyzer_g2.get_degree_distribution()\n",
    "plt.show()"
   ]
  },
  {
   "cell_type": "markdown",
   "metadata": {},
   "source": [
    "# Affiliation Networks"
   ]
  },
  {
   "cell_type": "code",
   "execution_count": 2,
   "metadata": {},
   "outputs": [
    {
     "name": "stdout",
     "output_type": "stream",
     "text": [
      "25000\n",
      "23000065\n"
     ]
    }
   ],
   "source": [
    "import networkx as nx\n",
    "\n",
    "G = nx.read_edgelist('net_2', nodetype=int)\n",
    "print(len(G.nodes()))\n",
    "print(len(G.edges()))"
   ]
  },
  {
   "cell_type": "code",
   "execution_count": 76,
   "metadata": {},
   "outputs": [
    {
     "name": "stdout",
     "output_type": "stream",
     "text": [
      "1840\n"
     ]
    }
   ],
   "source": [
    "avg_degree_G = int(sum(dict(G.degree()).values()) / len(G))\n",
    "print(avg_degree_G)"
   ]
  },
  {
   "cell_type": "markdown",
   "metadata": {},
   "source": [
    "## Communities"
   ]
  },
  {
   "cell_type": "code",
   "execution_count": 4,
   "metadata": {},
   "outputs": [],
   "source": [
    "import networkx as nx\n",
    "\n",
    "def operlapping_louvain(G, n_iter = 2):\n",
    "    \n",
    "    # STEP 1. execute the louvain algorithm n_iter times and record the results\n",
    "    results = []\n",
    "    for i in range(n_iter):\n",
    "        results.append([])\n",
    "        communities = nx.community.louvain_communities(G)   \n",
    "        for community in communities:\n",
    "            results[i].append(community)\n",
    "            \n",
    "    mean_len = sum([len(row) for row in results]) / len(results)\n",
    "\n",
    "    # STEP 2. build the belonging matrix with N rows (number of nodes) and C columns (number of communities)\n",
    "    n_nodes = len(G.nodes())\n",
    "    \n",
    "    # initialize the belonging matrix, each node ia a community\n",
    "    belonging_matrix = [[0 for _ in range(n_nodes)] for _ in range(n_nodes)]\n",
    "\n",
    "    # fill the belonging matrix\n",
    "    for row in results:\n",
    "        for i, community in enumerate(row):\n",
    "            for node in community:\n",
    "                for neighbor in G.neighbors(node):\n",
    "                    if neighbor in community:\n",
    "                        belonging_matrix[node][i] += 1\n",
    "                          \n",
    "    # normalize the belonging matrix in range [0,1] to compute the belonging coefficient of each node to each community\n",
    "    # take the maximum coefficient of the whole matrix\n",
    "    max_coefficient = max([max(row) for row in belonging_matrix])\n",
    "    for row in belonging_matrix:\n",
    "        for i in range(len(row)):\n",
    "            row[i] /= max_coefficient\n",
    "            \n",
    "    # take non null elements of the belonging matrix\n",
    "    non_null_elements = []\n",
    "    for row in belonging_matrix:\n",
    "        for element in row:\n",
    "            if element > 0:\n",
    "                non_null_elements.append(element)\n",
    "    \n",
    "    # compute lambda_\n",
    "    lambda_ = sum(non_null_elements)/len(non_null_elements)\n",
    "    print(\"lambda:\", lambda_)\n",
    "    \n",
    "    # if the coefficient is greater than lambda_ then the node belongs to the community\n",
    "    communities = {i: set() for i in range(n_nodes)}\n",
    "    i = 1\n",
    "    for node in belonging_matrix:\n",
    "        for j in range(n_nodes):\n",
    "            if node[j] > lambda_:\n",
    "                communities[j].add(i)\n",
    "        i += 1\n",
    "        \n",
    "    # remove empty communities\n",
    "    for community in list(communities.keys()):\n",
    "        if len(communities[community]) == 0:\n",
    "            communities.pop(community)\n",
    "            \n",
    "    print(\"Number of communities:\", len(communities))\n",
    "\n",
    "    return communities, belonging_matrix, lambda_, mean_len"
   ]
  },
  {
   "cell_type": "code",
   "execution_count": 5,
   "metadata": {},
   "outputs": [
    {
     "name": "stdout",
     "output_type": "stream",
     "text": [
      "lambda: 0.27731050322220085\n",
      "Number of communities: 4\n",
      "Mean length: 4.0\n"
     ]
    }
   ],
   "source": [
    "from networks_gen import affiliationG\n",
    "\n",
    "communities, belonging_matrix, lambda_, mean_len = operlapping_louvain(G, 50)\n",
    "print(\"Mean length:\", mean_len)\n",
    "# save the belonging matrix in a file\n",
    "belonging_matrix_file = open(\"belonging_matrix.txt\", \"w\")\n",
    "for row in belonging_matrix:\n",
    "    belonging_matrix_file.write(str(row) + \"\\n\")\n",
    "belonging_matrix_file.close()"
   ]
  },
  {
   "cell_type": "code",
   "execution_count": 9,
   "metadata": {},
   "outputs": [
    {
     "name": "stdout",
     "output_type": "stream",
     "text": [
      "0 14170\n",
      "1 14171\n",
      "2 11728\n",
      "3 3527\n"
     ]
    }
   ],
   "source": [
    "for community in communities:\n",
    "    print(community, len(communities[community]))"
   ]
  },
  {
   "cell_type": "code",
   "execution_count": 8,
   "metadata": {},
   "outputs": [
    {
     "name": "stdout",
     "output_type": "stream",
     "text": [
      "c: 4\n"
     ]
    }
   ],
   "source": [
    "# c = mean number of non null elements above lambda_ in the belonging matrix per row\n",
    "tot = []\n",
    "for row in belonging_matrix:\n",
    "    c = 0\n",
    "    for element in row:\n",
    "        if element > lambda_:\n",
    "            c += 1\n",
    "    tot.append(c)\n",
    "    \n",
    "c = int (sum(tot) / len(tot))\n",
    "print(\"c:\", c)"
   ]
  },
  {
   "cell_type": "code",
   "execution_count": 7,
   "metadata": {},
   "outputs": [
    {
     "name": "stdout",
     "output_type": "stream",
     "text": [
      "m: 4.53168\n"
     ]
    }
   ],
   "source": [
    "# m = mean number of non null elements in the belonging matrix per column\n",
    "tot = []\n",
    "for i in range(len(belonging_matrix[0])):\n",
    "    c = 0\n",
    "    for j in range(len(belonging_matrix)):\n",
    "        if belonging_matrix[j][i] > 0:\n",
    "            c += 1\n",
    "    tot.append(c)\n",
    "    \n",
    "m = sum(tot)/len(tot)\n",
    "print(\"m:\", m)"
   ]
  },
  {
   "cell_type": "markdown",
   "metadata": {},
   "source": [
    "## Affiliation probability and strong ties probability"
   ]
  },
  {
   "cell_type": "code",
   "execution_count": 3,
   "metadata": {},
   "outputs": [
    {
     "name": "stdout",
     "output_type": "stream",
     "text": [
      "p: 0.01, q: 0.1, Diff: 1718\n",
      "p: 0.01, q: 0.2, Diff: 1713\n",
      "p: 0.01, q: 0.30000000000000004, Diff: 1707\n",
      "p: 0.01, q: 0.4, Diff: 1700\n",
      "p: 0.01, q: 0.5, Diff: 1694\n",
      "p: 0.01, q: 0.6, Diff: 1676\n",
      "p: 0.01, q: 0.7, Diff: 1654\n",
      "p: 0.01, q: 0.7999999999999999, Diff: 1625\n",
      "p: 0.01, q: 0.8999999999999999, Diff: 1550\n",
      "p: 0.01, q: 0.9999999999999999, Diff: 1341\n",
      "p: 0.02, q: 0.1, Diff: 1597\n",
      "p: 0.02, q: 0.2, Diff: 1588\n",
      "p: 0.02, q: 0.30000000000000004, Diff: 1575\n",
      "p: 0.02, q: 0.4, Diff: 1563\n",
      "p: 0.02, q: 0.5, Diff: 1545\n",
      "p: 0.02, q: 0.6, Diff: 1515\n",
      "p: 0.02, q: 0.7, Diff: 1489\n",
      "p: 0.02, q: 0.7999999999999999, Diff: 1401\n",
      "p: 0.02, q: 0.8999999999999999, Diff: 1338\n",
      "p: 0.02, q: 0.9999999999999999, Diff: 849\n",
      "p: 0.03, q: 0.1, Diff: 1474\n",
      "p: 0.03, q: 0.2, Diff: 1462\n",
      "p: 0.03, q: 0.30000000000000004, Diff: 1443\n",
      "p: 0.03, q: 0.4, Diff: 1419\n",
      "p: 0.03, q: 0.5, Diff: 1397\n",
      "p: 0.03, q: 0.6, Diff: 1351\n",
      "p: 0.03, q: 0.7, Diff: 1347\n",
      "p: 0.03, q: 0.7999999999999999, Diff: 1299\n",
      "p: 0.03, q: 0.8999999999999999, Diff: 1305\n",
      "p: 0.03, q: 0.9999999999999999, Diff: 1089\n",
      "p: 0.04, q: 0.1, Diff: 1357\n",
      "p: 0.04, q: 0.2, Diff: 1335\n",
      "p: 0.04, q: 0.30000000000000004, Diff: 1319\n",
      "p: 0.04, q: 0.4, Diff: 1284\n",
      "p: 0.04, q: 0.5, Diff: 1255\n",
      "p: 0.04, q: 0.6, Diff: 1203\n",
      "p: 0.04, q: 0.7, Diff: 1134\n",
      "p: 0.04, q: 0.7999999999999999, Diff: 965\n",
      "p: 0.04, q: 0.8999999999999999, Diff: 1089\n",
      "p: 0.04, q: 0.9999999999999999, Diff: 839\n",
      "p: 0.05, q: 0.1, Diff: 1230\n",
      "p: 0.05, q: 0.2, Diff: 1220\n",
      "p: 0.05, q: 0.30000000000000004, Diff: 1178\n",
      "p: 0.05, q: 0.4, Diff: 1147\n",
      "p: 0.05, q: 0.5, Diff: 1110\n",
      "p: 0.05, q: 0.6, Diff: 1049\n",
      "p: 0.05, q: 0.7, Diff: 931\n",
      "p: 0.05, q: 0.7999999999999999, Diff: 860\n",
      "p: 0.05, q: 0.8999999999999999, Diff: 830\n",
      "p: 0.05, q: 0.9999999999999999, Diff: 589\n",
      "p: 0.060000000000000005, q: 0.1, Diff: 1107\n",
      "p: 0.060000000000000005, q: 0.2, Diff: 1084\n",
      "p: 0.060000000000000005, q: 0.30000000000000004, Diff: 1052\n",
      "p: 0.060000000000000005, q: 0.4, Diff: 1018\n",
      "p: 0.060000000000000005, q: 0.5, Diff: 947\n",
      "p: 0.060000000000000005, q: 0.6, Diff: 869\n",
      "p: 0.060000000000000005, q: 0.7, Diff: 719\n",
      "p: 0.060000000000000005, q: 0.7999999999999999, Diff: 574\n",
      "p: 0.060000000000000005, q: 0.8999999999999999, Diff: 323\n",
      "p: 0.060000000000000005, q: 0.9999999999999999, Diff: 339\n",
      "p: 0.07, q: 0.1, Diff: 995\n",
      "p: 0.07, q: 0.2, Diff: 952\n",
      "p: 0.07, q: 0.30000000000000004, Diff: 937\n",
      "p: 0.07, q: 0.4, Diff: 888\n",
      "p: 0.07, q: 0.5, Diff: 808\n",
      "p: 0.07, q: 0.6, Diff: 723\n",
      "p: 0.07, q: 0.7, Diff: 633\n",
      "p: 0.07, q: 0.7999999999999999, Diff: 300\n",
      "p: 0.07, q: 0.8999999999999999, Diff: 113\n",
      "p: 0.07, q: 0.9999999999999999, Diff: 1539\n",
      "p: 0.08, q: 0.1, Diff: 871\n",
      "p: 0.08, q: 0.2, Diff: 841\n",
      "p: 0.08, q: 0.30000000000000004, Diff: 793\n",
      "p: 0.08, q: 0.4, Diff: 753\n",
      "p: 0.08, q: 0.5, Diff: 657\n",
      "p: 0.08, q: 0.6, Diff: 583\n",
      "p: 0.08, q: 0.7, Diff: 457\n",
      "p: 0.08, q: 0.7999999999999999, Diff: 14\n",
      "p: 0.08, q: 0.8999999999999999, Diff: 173\n",
      "p: 0.08, q: 0.9999999999999999, Diff: 2001\n",
      "p: 0.09, q: 0.1, Diff: 754\n",
      "p: 0.09, q: 0.2, Diff: 710\n",
      "p: 0.09, q: 0.30000000000000004, Diff: 673\n",
      "p: 0.09, q: 0.4, Diff: 601\n",
      "p: 0.09, q: 0.5, Diff: 527\n",
      "p: 0.09, q: 0.6, Diff: 394\n",
      "p: 0.09, q: 0.7, Diff: 215\n",
      "p: 0.09, q: 0.7999999999999999, Diff: 433\n",
      "p: 0.09, q: 0.8999999999999999, Diff: 271\n",
      "p: 0.09, q: 0.9999999999999999, Diff: 411\n",
      "p: 0.09999999999999999, q: 0.1, Diff: 637\n",
      "p: 0.09999999999999999, q: 0.2, Diff: 590\n",
      "p: 0.09999999999999999, q: 0.30000000000000004, Diff: 523\n",
      "p: 0.09999999999999999, q: 0.4, Diff: 456\n",
      "p: 0.09999999999999999, q: 0.5, Diff: 375\n",
      "p: 0.09999999999999999, q: 0.6, Diff: 211\n",
      "p: 0.09999999999999999, q: 0.7, Diff: 33\n",
      "p: 0.09999999999999999, q: 0.7999999999999999, Diff: 46\n",
      "p: 0.09999999999999999, q: 0.8999999999999999, Diff: 910\n",
      "p: 0.09999999999999999, q: 0.9999999999999999, Diff: 662\n",
      "Best p: 0.08, Best q: 0.7999999999999999, Best Avg Degree: 14\n"
     ]
    }
   ],
   "source": [
    "from networks_gen import affiliationG\n",
    "\n",
    "def generate_affiliation_network(n, m, c, s, p, q):\n",
    "    g = affiliationG(n, m, q, c, p, s)\n",
    "    return g\n",
    "\n",
    "def evaluate_network(G):\n",
    "    avg_degree = int(sum(dict(G.degree()).values()) / len(G))\n",
    "    return abs(avg_degree_G - avg_degree)\n",
    "\n",
    "n = 25000\n",
    "m = int(m)\n",
    "c = int(c)\n",
    "s = 1\n",
    "p = 0.01\n",
    "q = 0.1\n",
    "\n",
    "best_p = 0.01\n",
    "best_q = 0.1\n",
    "best_score = float('inf')\n",
    "prev_score = float('inf')\n",
    "\n",
    "max_iterations = 10\n",
    "threshold = 0.01\n",
    "early_stopping = 2\n",
    "\n",
    "while p < 0.1:\n",
    "    \n",
    "    q = 0.1  \n",
    "    \n",
    "    early_stopping = 2\n",
    "    prev_score = float('inf')\n",
    "    \n",
    "    while q < 1:\n",
    "\n",
    "        network = generate_affiliation_network(n, m, c, s, p, q)\n",
    "        score = evaluate_network(network)\n",
    "        print(f\"p: {p}, q: {q}, Diff: {score}\")\n",
    "        \n",
    "        if score < threshold:  \n",
    "            break\n",
    "        \n",
    "        if score < best_score:\n",
    "            best_score = score\n",
    "            best_p = p\n",
    "            best_q = q\n",
    "        else:\n",
    "            if prev_score <= score:\n",
    "                early_stopping -= 1\n",
    "            else:\n",
    "                early_stopping = 5\n",
    "            prev_score = score\n",
    "            if early_stopping == 0:\n",
    "                break\n",
    "            \n",
    "        q += 0.1\n",
    "        \n",
    "    p += 0.01\n",
    "    \n",
    "    if score < threshold:\n",
    "        break\n",
    "\n",
    "print(f\"Best p: {best_p}, Best q: {best_q}, Best Avg Degree: {best_score}\")\n"
   ]
  },
  {
   "cell_type": "code",
   "execution_count": 20,
   "metadata": {},
   "outputs": [
    {
     "name": "stdout",
     "output_type": "stream",
     "text": [
      "n: 25000, m: 4, c: 2, s: 1, p: 0.08, q: 0.7999999999999999\n"
     ]
    }
   ],
   "source": [
    "print(f\"n: {n}, m: {m}, c: {c}, s: {s}, p: {best_p}, q: {best_q}\")\n",
    "best_q = 0.8\n",
    "best_p = 0.09"
   ]
  },
  {
   "cell_type": "code",
   "execution_count": 36,
   "metadata": {},
   "outputs": [],
   "source": [
    "G2 = affiliationG(n, m, best_q, c, best_p, s)"
   ]
  },
  {
   "cell_type": "code",
   "execution_count": 38,
   "metadata": {},
   "outputs": [
    {
     "name": "stdout",
     "output_type": "stream",
     "text": [
      "17047605\n"
     ]
    },
    {
     "data": {
      "image/png": "[encoded data removed]",
      "text/plain": [
       "<Figure size 800x600 with 1 Axes>"
      ]
     },
     "metadata": {},
     "output_type": "display_data"
    }
   ],
   "source": [
    "G2 = affiliationG(25000, 5, 0.5, 4, 0.05, 1)\n",
    "print(len(G2.edges()))\n",
    "analyzer_g2 = Analyzer(G2)\n",
    "plt = analyzer_g2.get_degree_distribution()\n",
    "plt.show()"
   ]
  }
 ],
 "metadata": {
  "kernelspec": {
   "display_name": "venv",
   "language": "python",
   "name": "python3"
  },
  "language_info": {
   "codemirror_mode": {
    "name": "ipython",
    "version": 3
   },
   "file_extension": ".py",
   "mimetype": "text/x-python",
   "name": "python",
   "nbconvert_exporter": "python",
   "pygments_lexer": "ipython3",
   "version": "3.10.12"
  }
 },
 "nbformat": 4,
 "nbformat_minor": 2
}
