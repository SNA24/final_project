{
 "cells": [
  {
   "cell_type": "markdown",
   "metadata": {},
   "source": [
    "# Utilities"
   ]
  },
  {
   "cell_type": "code",
   "execution_count": 5,
   "metadata": {},
   "outputs": [],
   "source": [
    "import os, sys\n",
    "parent_dir = os.path.dirname(os.path.dirname(os.path.abspath('.')))\n",
    "sys.path.append(parent_dir)"
   ]
  },
  {
   "cell_type": "code",
   "execution_count": 378,
   "metadata": {},
   "outputs": [],
   "source": [
    "import matplotlib.pyplot as plt\n",
    "import numpy as np\n",
    "\n",
    "class Analyzer:\n",
    "    \n",
    "    def __init__(self, network):\n",
    "        self.network = network\n",
    "        \n",
    "    def get_degree_distribution(self):\n",
    "        \"Returns the plot of the degree distribution with a log-log scale\"\n",
    "        \n",
    "        N = self.network.number_of_nodes()\n",
    "        degrees = [self.network.in_degree(n) for n in self.network.nodes()] if self.network.is_directed() else [self.network.degree(n) for n in self.network.nodes()]\n",
    "        \n",
    "        N_k = {}\n",
    "        for k in degrees:\n",
    "            if k not in N_k:\n",
    "                N_k[k] = 1\n",
    "            else:\n",
    "                N_k[k] += 1\n",
    "                \n",
    "        p_k = {}\n",
    "        for k in N_k:\n",
    "            p_k[k] = N_k[k] / N\n",
    "        \n",
    "        # Plotting in log-log scale\n",
    "        plt.figure(figsize=(8, 6))\n",
    "        plt.loglog(list(p_k.keys()), list(p_k.values()), marker='o', linestyle='None', color='b')\n",
    "        plt.title('Log-log Degree Distribution')\n",
    "        plt.xlabel('Degree')\n",
    "        plt.ylabel('Frequency')\n",
    "        plt.grid(True)\n",
    "\n",
    "        return plt"
   ]
  },
  {
   "cell_type": "markdown",
   "metadata": {},
   "source": [
    "# Random Graphs"
   ]
  },
  {
   "cell_type": "code",
   "execution_count": null,
   "metadata": {},
   "outputs": [],
   "source": [
    "from networks_gen import randomG\n",
    "import random\n",
    "\n",
    "n = 25000\n",
    "\n",
    "# take p randomly between 1/24999 and 1\n",
    "p = random.uniform(1/(n-1), 0.01)\n",
    "\n",
    "g1 = randomG(n, p)\n",
    "analyzer_g1 = Analyzer(g1)\n",
    "plt = analyzer_g1.get_degree_distribution()\n",
    "plt.show()"
   ]
  },
  {
   "cell_type": "code",
   "execution_count": null,
   "metadata": {},
   "outputs": [],
   "source": [
    "print(len(g1.edges()))\n",
    "print(len(g1.nodes()))"
   ]
  },
  {
   "cell_type": "code",
   "execution_count": null,
   "metadata": {},
   "outputs": [],
   "source": [
    "# save the graph\n",
    "print(p)"
   ]
  },
  {
   "cell_type": "code",
   "execution_count": null,
   "metadata": {},
   "outputs": [],
   "source": [
    "# save the graph\n",
    "print(stream_diam(g1))"
   ]
  },
  {
   "cell_type": "markdown",
   "metadata": {},
   "source": [
    "# Configuration model"
   ]
  },
  {
   "cell_type": "code",
   "execution_count": null,
   "metadata": {},
   "outputs": [],
   "source": [
    "import networkx as nx\n",
    "import numpy as np\n",
    "\n",
    "degree_distribution = [d for _, d in G.degree()]\n",
    "\n",
    "min = np.min(degree_distribution)\n",
    "max = np.max(degree_distribution)\n",
    "\n",
    "# normalize the degree distribution beteen 0 and max - min\n",
    "normalized_degree_distribution = [d - min for d in degree_distribution]\n",
    "\n",
    "if np.sum(normalized_degree_distribution) % 2 != 0:\n",
    "    normalized_degree_distribution[0] += 1\n",
    "\n",
    "# Generate the small graph\n",
    "small_graph = nx.configuration_model(normalized_degree_distribution[:3000])\n",
    "\n",
    "# Compute the degree distribution of the small graph\n",
    "analyzer_g2 = Analyzer(small_graph)\n",
    "plt = analyzer_g2.get_degree_distribution()\n",
    "plt.show()"
   ]
  },
  {
   "cell_type": "code",
   "execution_count": null,
   "metadata": {},
   "outputs": [],
   "source": [
    "nx.draw_networkx(small_graph, with_labels=False, linewidths=0.01, node_size=1, width=0.1)\n",
    "plt.show()"
   ]
  },
  {
   "cell_type": "markdown",
   "metadata": {},
   "source": [
    "# Preferential Attachment"
   ]
  },
  {
   "cell_type": "code",
   "execution_count": null,
   "metadata": {},
   "outputs": [],
   "source": [
    "from networks_gen import preferentialG\n",
    "import random\n",
    "\n",
    "# generate a preferential graph for n = 25000 and different values of p (between 0 excluded and 1 included) and plot the degree distribution for each graph\n",
    "n = 25000\n",
    "\n",
    "ps = [0.01, 0.1, 0.5, 0.7, 1]\n",
    "\n",
    "# take p randomly between 1/24999 and 1\n",
    "for p in ps:\n",
    "    g2 = preferentialG(n, p)\n",
    "    analyzer_g2 = Analyzer(g2)\n",
    "    print(len(g2.edges()))\n",
    "    plt = analyzer_g2.get_degree_distribution()\n",
    "    plt.show()"
   ]
  },
  {
   "cell_type": "markdown",
   "metadata": {},
   "source": [
    "# Generalized Watts-Strogatz"
   ]
  },
  {
   "cell_type": "code",
   "execution_count": null,
   "metadata": {},
   "outputs": [],
   "source": [
    "import networkx as nx\n",
    "import numpy as np\n",
    "from networks_gen import GenWS2DG\n",
    "\n",
    "# degree_distribution = [d for _, d in G.degree()]\n",
    "\n",
    "# min = np.min(degree_distribution)\n",
    "# max = np.max(degree_distribution)\n",
    "\n",
    "# # normalize the degree distribution beteen 0 and max - min\n",
    "# normalized_degree_distribution = [d - min for d in degree_distribution]\n",
    "\n",
    "# normalized_degree_distribution = normalized_degree_distribution[:3000]\n",
    "\n",
    "# if np.sum(normalized_degree_distribution) % 2 != 0:\n",
    "#     normalized_degree_distribution[-1] += 1\n",
    "\n",
    "# Generate the small graph\n",
    "small_graph = GenWS2DG(2500, 1, 1000, 1)\n",
    "\n",
    "# Compute the degree distribution of the small graph\n",
    "analyzer_g2 = Analyzer(small_graph)\n",
    "plt = analyzer_g2.get_degree_distribution()\n",
    "plt.show()"
   ]
  },
  {
   "cell_type": "markdown",
   "metadata": {},
   "source": [
    "# Affiliation Networks"
   ]
  },
  {
   "cell_type": "code",
   "execution_count": 384,
   "metadata": {},
   "outputs": [],
   "source": [
    "import networkx as nx\n",
    "\n",
    "G = nx.read_edgelist('net_2', nodetype=int)"
   ]
  },
  {
   "cell_type": "code",
   "execution_count": 701,
   "metadata": {},
   "outputs": [],
   "source": [
    "from networks_gen import affiliationG\n",
    "import math\n",
    "import networkx as nx\n",
    "\n",
    "G = affiliationG(100, 4, 0.1, 2, 0.2, 1)\n"
   ]
  },
  {
   "cell_type": "code",
   "execution_count": 702,
   "metadata": {},
   "outputs": [
    {
     "data": {
      "image/png": "[encoded data removed]",
      "text/plain": [
       "<Figure size 800x600 with 1 Axes>"
      ]
     },
     "metadata": {},
     "output_type": "display_data"
    }
   ],
   "source": [
    "analyzer_g1 = Analyzer(G)\n",
    "plt = analyzer_g1.get_degree_distribution()\n",
    "plt.show()"
   ]
  },
  {
   "cell_type": "code",
   "execution_count": 703,
   "metadata": {},
   "outputs": [],
   "source": [
    "n = len(G.nodes())\n",
    "m = range(2, 10)\n",
    "q = [0.1, 0.2, 0.3, 0.4, 0.5, 0.6, 0.7, 0.8, 0.9]\n",
    "p = [0.1, 0.2, 0.3, 0.4, 0.5, 0.6, 0.7, 0.8, 0.9]\n",
    "s = 1"
   ]
  },
  {
   "cell_type": "code",
   "execution_count": 704,
   "metadata": {},
   "outputs": [],
   "source": [
    "import numpy as np\n",
    "import math\n",
    "\n",
    "def log_likelihood(u, F, G, sum_v, i):\n",
    "    \n",
    "    sum_1 = np.zeros(i)\n",
    "    for v in G.neighbors(u):\n",
    "        dot_product = np.dot(F[u], np.transpose(F[v]))\n",
    "        denominator = 1 - math.exp(-dot_product)\n",
    "        sum_1 += (F[v] * np.exp(-dot_product) / denominator)\n",
    "\n",
    "    sum_2 = sum_v - F[u] - np.sum(F[list(G.neighbors(u))], axis=0)\n",
    "\n",
    "    return sum_1 - sum_2\n",
    "\n",
    "def coordinate_gradient_ascent(log_likelihood, F, G, sum_v, learning_rate, max_iter):\n",
    "    \n",
    "    n, m = F.shape\n",
    "\n",
    "    while max_iter > 0:\n",
    "        \n",
    "        tot_gradient = np.zeros(m)\n",
    "        new_F = np.zeros((n, m))\n",
    "        \n",
    "        for u in range(n):\n",
    "            gradient_u = log_likelihood(u, F, G, sum_v, m)\n",
    "            tot_gradient += gradient_u\n",
    "            new_F[u] = F[u] + learning_rate * gradient_u\n",
    "            new_F[u] = np.maximum(new_F[u], 0)\n",
    "            \n",
    "        F = new_F\n",
    "        sum_v = np.sum(F, axis=0)\n",
    "        \n",
    "        max_iter -= 1\n",
    "        \n",
    "        if np.sum(np.abs(tot_gradient)) < 0.0001:\n",
    "            break\n",
    "        \n",
    "    return F\n"
   ]
  },
  {
   "cell_type": "code",
   "execution_count": 705,
   "metadata": {},
   "outputs": [],
   "source": [
    "import math\n",
    "\n",
    "def compute_c(G, m):\n",
    "    \n",
    "    n = len(G.nodes())\n",
    "    learning_rate = 0.0001\n",
    "    max_iter = 1000\n",
    "\n",
    "    F = np.random.rand(n, m)\n",
    "    sum_v = np.sum(F, axis=0)\n",
    "    \n",
    "    F = coordinate_gradient_ascent(log_likelihood, F, G, sum_v, learning_rate, max_iter)\n",
    "    \n",
    "    mean = np.mean(F)\n",
    "\n",
    "    affiliations, communities = {}, {}\n",
    "    for u in range(n):\n",
    "        affiliations[u] = [i for i in range(m) if F[u][i] > mean]\n",
    "        for i in affiliations[u]:\n",
    "            if i not in communities:\n",
    "                communities[i] = [u]\n",
    "            else:\n",
    "                communities[i].append(u)\n",
    "\n",
    "    # compute the number of elements > 0.01 per-row and make the mean\n",
    "    mean_length = np.mean(np.sum(F > 0.0099, axis=1))\n",
    "    \n",
    "    return math.ceil(mean_length), affiliations\n",
    "\n",
    "def compute_p(G, affiliations):\n",
    "\n",
    "    num_strong_ties_per_node = [degree-1 for _, degree in G.degree()]\n",
    "    \n",
    "    # compute the number of edges each nodes has with nodes in the same community\n",
    "    num_strong_ties_per_community = {}\n",
    "    for u in affiliations:\n",
    "        num_strong_ties_per_community[u] = {}\n",
    "        for i in affiliations[u]:\n",
    "            for neighbor in G.neighbors(u):\n",
    "                if i in affiliations[neighbor]:\n",
    "                    if i not in num_strong_ties_per_community[u]:\n",
    "                        num_strong_ties_per_community[u][i] = 1\n",
    "                    else:\n",
    "                        num_strong_ties_per_community[u][i] += 1\n",
    "                    \n",
    "    # compute the probability p of a node to have an edge towards a community\n",
    "    p = {}\n",
    "    for u in num_strong_ties_per_community:\n",
    "        p[u] = {}\n",
    "        for i in num_strong_ties_per_community[u]:\n",
    "            p[u][i] = num_strong_ties_per_community[u][i] / num_strong_ties_per_node[u]\n",
    "            \n",
    "    mean_p = np.mean([p[u][i] for u in p for i in p[u]])\n",
    "    \n",
    "    return mean_p\n",
    "    "
   ]
  },
  {
   "cell_type": "code",
   "execution_count": 706,
   "metadata": {},
   "outputs": [
    {
     "name": "stdout",
     "output_type": "stream",
     "text": [
      "m = 2, q = 0.1, c = 2, p = 0.2, dist = 854\n",
      "m = 3, q = 0.1, c = 2, p = 0.2, dist = 552\n",
      "m = 4, q = 0.1, c = 3, p = 0.2, dist = 768\n",
      "m = 4, q = 0.2, c = 3, p = 0.2, dist = 788\n",
      "m = 4, q = 0.3, c = 3, p = 0.2, dist = 776\n",
      "m = 4, q = 0.4, c = 3, p = 0.2, dist = 844\n",
      "m = 4, q = 0.5, c = 3, p = 0.2, dist = 768\n",
      "m = 4, q = 0.6, c = 3, p = 0.2, dist = 612\n",
      "m = 5, q = 0.1, c = 3, p = 0.2, dist = 566\n",
      "m = 5, q = 0.2, c = 3, p = 0.2, dist = 590\n",
      "m = 5, q = 0.3, c = 3, p = 0.2, dist = 918\n",
      "m = 5, q = 0.4, c = 3, p = 0.2, dist = 754\n",
      "m = 5, q = 0.5, c = 3, p = 0.2, dist = 580\n",
      "m = 5, q = 0.6, c = 3, p = 0.2, dist = 1026\n",
      "m = 6, q = 0.1, c = 3, p = 0.2, dist = 592\n",
      "m = 6, q = 0.2, c = 3, p = 0.2, dist = 550\n",
      "m = 7, q = 0.1, c = 4, p = 0.2, dist = 850\n",
      "m = 7, q = 0.2, c = 4, p = 0.2, dist = 786\n",
      "m = 7, q = 0.3, c = 4, p = 0.2, dist = 650\n",
      "m = 7, q = 0.4, c = 4, p = 0.2, dist = 640\n",
      "m = 7, q = 0.5, c = 4, p = 0.2, dist = 1748\n",
      "m = 7, q = 0.6, c = 4, p = 0.2, dist = 1244\n",
      "m = 8, q = 0.1, c = 4, p = 0.2, dist = 602\n",
      "m = 8, q = 0.2, c = 4, p = 0.2, dist = 638\n",
      "m = 8, q = 0.3, c = 4, p = 0.2, dist = 530\n",
      "m = 9, q = 0.1, c = 4, p = 0.2, dist = 566\n",
      "m = 9, q = 0.2, c = 4, p = 0.2, dist = 570\n",
      "m = 9, q = 0.3, c = 4, p = 0.2, dist = 656\n",
      "m = 9, q = 0.4, c = 4, p = 0.2, dist = 656\n",
      "m = 9, q = 0.5, c = 4, p = 0.2, dist = 772\n",
      "m = 9, q = 0.6, c = 4, p = 0.2, dist = 642\n",
      "[8, 0.3, 4, 0.2] 530\n"
     ]
    }
   ],
   "source": [
    "import math\n",
    "\n",
    "def compute_degree_distance(G1, G2):\n",
    "\n",
    "    degree_distribution_G1 = [d for _, d in G1.degree()]\n",
    "    degree_distribution_G2 = [d for _, d in G2.degree()]\n",
    "        \n",
    "    return sum([abs(degree_distribution_G1[i] - degree_distribution_G2[i]) for i in range(len(degree_distribution_G1))])\n",
    "\n",
    "best_dist = float('inf')\n",
    "\n",
    "early_stopping = 5\n",
    "\n",
    "j = q[0]\n",
    "\n",
    "for i in m:\n",
    "    \n",
    "    c, communities = compute_c(G, i)\n",
    "    \n",
    "    p = 0.2\n",
    "\n",
    "    for j in q:\n",
    "            \n",
    "        G2 = affiliationG(n, i, j, c, p, s)\n",
    "        \n",
    "        dist = compute_degree_distance(G, G2)\n",
    "        print(\"m = {}, q = {}, c = {}, p = {}, dist = {}\".format(i, j, c, p, dist))\n",
    "        \n",
    "        if dist < best_dist:\n",
    "            best_dist = dist\n",
    "            best_params = [i, j, c, p]\n",
    "            \n",
    "        if abs(dist - best_dist) < 0.001 or early_stopping == 0:\n",
    "            early_stopping = 5\n",
    "            break\n",
    "        \n",
    "        elif dist > best_dist and early_stopping > 0:\n",
    "            early_stopping -= 1\n",
    "                    \n",
    "print(best_params, best_dist)"
   ]
  },
  {
   "cell_type": "code",
   "execution_count": 707,
   "metadata": {},
   "outputs": [],
   "source": [
    "# 4, 0.1, 3, 0.2"
   ]
  },
  {
   "cell_type": "code",
   "execution_count": 708,
   "metadata": {},
   "outputs": [
    {
     "data": {
      "image/png": "[encoded data removed]",
      "text/plain": [
       "<Figure size 800x600 with 1 Axes>"
      ]
     },
     "metadata": {},
     "output_type": "display_data"
    }
   ],
   "source": [
    "G2 = affiliationG(n, math.floor(best_params[0]), best_params[1], best_params[2], best_params[3], s)\n",
    "\n",
    "analyzer_g2 = Analyzer(G2)\n",
    "plt = analyzer_g2.get_degree_distribution()\n",
    "plt.show()"
   ]
  }
 ],
 "metadata": {
  "kernelspec": {
   "display_name": "venv",
   "language": "python",
   "name": "python3"
  },
  "language_info": {
   "codemirror_mode": {
    "name": "ipython",
    "version": 3
   },
   "file_extension": ".py",
   "mimetype": "text/x-python",
   "name": "python",
   "nbconvert_exporter": "python",
   "pygments_lexer": "ipython3",
   "version": "3.10.12"
  }
 },
 "nbformat": 4,
 "nbformat_minor": 2
}
