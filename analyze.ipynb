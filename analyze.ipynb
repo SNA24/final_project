{
 "cells": [
  {
   "cell_type": "code",
   "execution_count": 1,
   "metadata": {},
   "outputs": [],
   "source": [
    "def stream_diam(G):\n",
    "    step = 0\n",
    "\n",
    "    # At the beginning, R contains for each vertex v the number of nodes that can be reached from v in one step\n",
    "    R={v:G.degree(v) for v in G.nodes()}\n",
    "    done = False\n",
    "\n",
    "    while not done:\n",
    "        done = True\n",
    "        for edge in G.edges():\n",
    "            # At the i-th iteration, we change the value of R if there is at least one node that may be reached from v in i steps but not in i steps\n",
    "            # I realize that this is the case, because I have a neighbor that in i-1 steps is able to visit a number of vertices different from how many I am able to visit\n",
    "            if R[edge[0]] != R[edge[1]]:\n",
    "                R[edge[0]] = max(R[edge[0]],R[edge[1]])\n",
    "                R[edge[1]] = R[edge[0]]\n",
    "                done = False\n",
    "        step += 1\n",
    "\n",
    "    return step"
   ]
  },
  {
   "cell_type": "code",
   "execution_count": 2,
   "metadata": {},
   "outputs": [],
   "source": [
    "import networkx as nx\n",
    "import matplotlib.pyplot as plt\n",
    "import numpy as np\n",
    "import collections\n",
    "\n",
    "class Analyzer:\n",
    "    \n",
    "    def __init__(self, network):\n",
    "        self.network = network\n",
    "        \n",
    "    def get_degree_distribution(self):\n",
    "        \"Returns the plot of the degree distribution with a log-log scale\"\n",
    "        \n",
    "        # if the network is directed, we consider the in-degree\n",
    "        degree_sequence = nx.degree_histogram(self.network)\n",
    "            \n",
    "        degree_freq = {}\n",
    "        for d in degree_sequence:\n",
    "            if d in degree_freq:\n",
    "                degree_freq[d] += 1\n",
    "            else:\n",
    "                degree_freq[d] = 1\n",
    "                \n",
    "        # Extract degrees and frequencies\n",
    "        degrees = list(degree_freq.keys())\n",
    "        frequencies = list(degree_freq.values())\n",
    "\n",
    "        # Plotting in log-log scale\n",
    "        plt.figure(figsize=(8, 6))\n",
    "        plt.loglog(degrees, frequencies, marker='o', linestyle='None', color='b')\n",
    "        plt.title('Log-log Degree Distribution')\n",
    "        plt.xlabel('Degree (log scale)')\n",
    "        plt.ylabel('Frequency (log scale)')\n",
    "        plt.grid(True)\n",
    "\n",
    "        return plt\n",
    "    \n",
    "    def get_clustering_coefficient(self):\n",
    "        \"Returns the average clustering coefficient of the network\"\n",
    "        return nx.average_clustering(self.network)\n",
    "    \n",
    "    def get_diameter(self):\n",
    "        \"Returns the diameter of the network\"\n",
    "        return stream_diam(self.network)"
   ]
  },
  {
   "cell_type": "markdown",
   "metadata": {},
   "source": [
    "# Test Random Graph"
   ]
  },
  {
   "cell_type": "code",
   "execution_count": 3,
   "metadata": {},
   "outputs": [],
   "source": [
    "import random\n",
    "\n",
    "# generate undirected random graph\n",
    "def randomG(n, p):\n",
    "    G = nx.Graph()\n",
    "\n",
    "    for i in range(n):\n",
    "        G.add_node(i)\n",
    "        for j in range (i+1,n):\n",
    "            r=random.random()\n",
    "            if r <= p:\n",
    "                G.add_edge(i,j)\n",
    "\n",
    "    return G\n",
    "\n",
    "def random_directed_G(n, p):\n",
    "    G = nx.DiGraph()\n",
    "\n",
    "    for i in range(n):\n",
    "        G.add_node(i)\n",
    "        for j in range(i + 1, n):\n",
    "            r = random.random()\n",
    "            if r <= p:\n",
    "                G.add_edge(i, j)\n",
    "\n",
    "    return G\n",
    "\n",
    "def configurationG(deg):\n",
    "    G = nx.Graph()\n",
    "\n",
    "    nodes=list(range(len(deg))) # It contains all nodes for which there is at least another neighbor to add\n",
    "\n",
    "    # There may be some cases in which the procedure is unable to emulate the degree sequence in input:\n",
    "    # (i) when the procedure leaves only one node whose degree does not match the required degree\n",
    "    # (e.g., consider an input degree sequence deg=[3,1,1,1] and the procedure added edges (0,1) and (2,3));\n",
    "    # (ii) when there is an edge between each pairs of nodes whose degree does not match the required degree\n",
    "    # (e.g., consider an input degree sequence deg=[2,2,1,1] and the procedure added edges (0,1) and (2,3)).\n",
    "    # In order to avoid the first case we stop to insert edges when there is a single node with a non-matching degree.\n",
    "    # In order to avoid the second case, we stop to insert edges when the number of probes for a new edge to add\n",
    "    # is above a given threshold (we below assume a threshold of n^2, but lower threshold can be set).\n",
    "    # Note that, in both cases, the degree sequence of the resulting graph may not be exactly the same\n",
    "    # as the one in input. However, few \"outliers\" do not alter the degree sequence distribution.\n",
    "    threshold = len(nodes)**2\n",
    "    while len(nodes) > 1:\n",
    "        done = False\n",
    "        tries = 1\n",
    "        while not done:\n",
    "            edge=random.sample(nodes, 2)\n",
    "            if not G.has_edge(edge[0], edge[1]):\n",
    "                done = True\n",
    "                G.add_edge(edge[0], edge[1])\n",
    "                deg[edge[0]] -=1\n",
    "                if deg[edge[0]] == 0:\n",
    "                    nodes.remove(edge[0])\n",
    "                deg[edge[1]] -=1\n",
    "                if deg[edge[1]] == 0:\n",
    "                    nodes.remove(edge[1])\n",
    "            else:\n",
    "                tries +=1\n",
    "                if tries > threshold:\n",
    "                    done = True\n",
    "\n",
    "    return G\n"
   ]
  },
  {
   "cell_type": "code",
   "execution_count": 4,
   "metadata": {},
   "outputs": [
    {
     "name": "stdout",
     "output_type": "stream",
     "text": [
      "The probability used to generate the graph is: 0.07360315212608505\n"
     ]
    }
   ],
   "source": [
    "nodes = 25000\n",
    "edges = 23000065\n",
    "\n",
    "total_possible_edges = nodes * (nodes - 1) / 2  # For undirected graph\n",
    "\n",
    "probability = edges / total_possible_edges\n",
    "print(\"The probability used to generate the graph is:\", probability)\n"
   ]
  },
  {
   "cell_type": "code",
   "execution_count": 5,
   "metadata": {},
   "outputs": [
    {
     "data": {
      "image/png": "[encoded data removed]",
      "text/plain": [
       "<Figure size 800x600 with 1 Axes>"
      ]
     },
     "metadata": {},
     "output_type": "display_data"
    }
   ],
   "source": [
    "G = randomG(25000, 0.07360315212608505)\n",
    "analyzer = Analyzer(G)\n",
    "plt = analyzer.get_degree_distribution()\n",
    "plt.show()"
   ]
  },
  {
   "cell_type": "code",
   "execution_count": 7,
   "metadata": {},
   "outputs": [
    {
     "name": "stdout",
     "output_type": "stream",
     "text": [
      "Number of nodes: 25000 \n",
      "Number of edges: 23001008\n",
      "Diameter: 2\n"
     ]
    }
   ],
   "source": [
    "# print number of nodes and edges\n",
    "print(\"Number of nodes:\", G.number_of_nodes(), \"\\nNumber of edges:\", G.number_of_edges())\n",
    "\n",
    "# check if the diameter is ln n\n",
    "print(\"Diameter:\", analyzer.get_diameter())"
   ]
  },
  {
   "cell_type": "code",
   "execution_count": null,
   "metadata": {},
   "outputs": [],
   "source": [
    "import math\n",
    "print(\"ln n:\", math.log(G.number_of_nodes()))"
   ]
  },
  {
   "cell_type": "code",
   "execution_count": null,
   "metadata": {},
   "outputs": [],
   "source": [
    "nodes = 25000\n",
    "edges = 23000065\n",
    "\n",
    "total_possible_edges_directed = nodes * (nodes - 1)  # For directed graph\n",
    "\n",
    "probability_directed = edges / total_possible_edges_directed\n",
    "print(\"The probability used to generate the directed graph is:\", probability_directed)"
   ]
  },
  {
   "cell_type": "code",
   "execution_count": null,
   "metadata": {},
   "outputs": [],
   "source": [
    "G = random_directed_G(25000, 0.036801576063042525)\n",
    "analyzer = Analyzer(G)\n",
    "plt = analyzer.get_degree_distribution()"
   ]
  },
  {
   "cell_type": "code",
   "execution_count": null,
   "metadata": {},
   "outputs": [],
   "source": [
    "# print number of nodes and edges\n",
    "print(\"Number of nodes:\", G.number_of_nodes(), \"\\nNumber of edges:\", G.number_of_edges())\n",
    "\n",
    "# check if the clustering coefficient is low   \n",
    "print(\"Clustering coefficient:\", analyzer.get_clustering_coefficient()) \n",
    "\n",
    "# check if the diameter is ln n\n",
    "print(\"Diameter:\", analyzer.get_diameter())"
   ]
  }
 ],
 "metadata": {
  "kernelspec": {
   "display_name": "venv",
   "language": "python",
   "name": "python3"
  },
  "language_info": {
   "codemirror_mode": {
    "name": "ipython",
    "version": 3
   },
   "file_extension": ".py",
   "mimetype": "text/x-python",
   "name": "python",
   "nbconvert_exporter": "python",
   "pygments_lexer": "ipython3",
   "version": "3.10.12"
  }
 },
 "nbformat": 4,
 "nbformat_minor": 2
}
