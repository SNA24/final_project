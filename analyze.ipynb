{
 "cells": [
  {
   "cell_type": "markdown",
   "metadata": {},
   "source": [
    "# Utilities"
   ]
  },
  {
   "cell_type": "code",
   "execution_count": null,
   "metadata": {},
   "outputs": [],
   "source": [
    "import os, sys\n",
    "parent_dir = os.path.dirname(os.path.dirname(os.path.abspath('.')))\n",
    "sys.path.append(parent_dir)"
   ]
  },
  {
   "cell_type": "code",
   "execution_count": null,
   "metadata": {},
   "outputs": [],
   "source": [
    "import matplotlib.pyplot as plt\n",
    "import numpy as np\n",
    "\n",
    "class Analyzer:\n",
    "    \n",
    "    def __init__(self, network):\n",
    "        self.network = network\n",
    "        \n",
    "    def get_degree_distribution(self):\n",
    "        \"Returns the plot of the degree distribution with a log-log scale\"\n",
    "        \n",
    "        N = self.network.number_of_nodes()\n",
    "        degrees = [self.network.in_degree(n) for n in self.network.nodes()] if self.network.is_directed() else [self.network.degree(n) for n in self.network.nodes()]\n",
    "        \n",
    "        N_k = {}\n",
    "        for k in degrees:\n",
    "            if k not in N_k:\n",
    "                N_k[k] = 1\n",
    "            else:\n",
    "                N_k[k] += 1\n",
    "                \n",
    "        p_k = {}\n",
    "        for k in N_k:\n",
    "            p_k[k] = N_k[k] / N\n",
    "        \n",
    "        # Plotting in log-log scale\n",
    "        plt.figure(figsize=(8, 6))\n",
    "        plt.loglog(list(p_k.keys()), list(p_k.values()), marker='o', linestyle='None', color='b')\n",
    "        plt.title('Log-log Degree Distribution')\n",
    "        plt.xlabel('Degree')\n",
    "        plt.ylabel('Frequency')\n",
    "        plt.grid(True)\n",
    "\n",
    "        return plt"
   ]
  },
  {
   "cell_type": "markdown",
   "metadata": {},
   "source": [
    "# Random Graphs"
   ]
  },
  {
   "cell_type": "code",
   "execution_count": null,
   "metadata": {},
   "outputs": [],
   "source": [
    "from networks_gen import randomG\n",
    "import random\n",
    "\n",
    "n = 25000\n",
    "\n",
    "# take p randomly between 1/24999 and 1\n",
    "p = random.uniform(1/(n-1), 0.01)\n",
    "\n",
    "g1 = randomG(n, p)\n",
    "analyzer_g1 = Analyzer(g1)\n",
    "plt = analyzer_g1.get_degree_distribution()\n",
    "plt.show()"
   ]
  },
  {
   "cell_type": "code",
   "execution_count": null,
   "metadata": {},
   "outputs": [],
   "source": [
    "print(len(g1.edges()))\n",
    "print(len(g1.nodes()))"
   ]
  },
  {
   "cell_type": "code",
   "execution_count": null,
   "metadata": {},
   "outputs": [],
   "source": [
    "# save the graph\n",
    "print(p)"
   ]
  },
  {
   "cell_type": "code",
   "execution_count": null,
   "metadata": {},
   "outputs": [],
   "source": [
    "# save the graph\n",
    "print(stream_diam(g1))"
   ]
  },
  {
   "cell_type": "markdown",
   "metadata": {},
   "source": [
    "# Configuration model"
   ]
  },
  {
   "cell_type": "code",
   "execution_count": null,
   "metadata": {},
   "outputs": [],
   "source": [
    "import networkx as nx\n",
    "import numpy as np\n",
    "\n",
    "degree_distribution = [d for _, d in G.degree()]\n",
    "\n",
    "min = np.min(degree_distribution)\n",
    "max = np.max(degree_distribution)\n",
    "\n",
    "# normalize the degree distribution beteen 0 and max - min\n",
    "normalized_degree_distribution = [d - min for d in degree_distribution]\n",
    "\n",
    "if np.sum(normalized_degree_distribution) % 2 != 0:\n",
    "    normalized_degree_distribution[0] += 1\n",
    "\n",
    "# Generate the small graph\n",
    "small_graph = nx.configuration_model(normalized_degree_distribution[:3000])\n",
    "\n",
    "# Compute the degree distribution of the small graph\n",
    "analyzer_g2 = Analyzer(small_graph)\n",
    "plt = analyzer_g2.get_degree_distribution()\n",
    "plt.show()"
   ]
  },
  {
   "cell_type": "code",
   "execution_count": null,
   "metadata": {},
   "outputs": [],
   "source": [
    "nx.draw_networkx(small_graph, with_labels=False, linewidths=0.01, node_size=1, width=0.1)\n",
    "plt.show()"
   ]
  },
  {
   "cell_type": "markdown",
   "metadata": {},
   "source": [
    "# Preferential Attachment"
   ]
  },
  {
   "cell_type": "code",
   "execution_count": null,
   "metadata": {},
   "outputs": [],
   "source": [
    "from networks_gen import preferentialG\n",
    "import random\n",
    "\n",
    "# generate a preferential graph for n = 25000 and different values of p (between 0 excluded and 1 included) and plot the degree distribution for each graph\n",
    "n = 25000\n",
    "\n",
    "ps = [0.01, 0.1, 0.5, 0.7, 1]\n",
    "\n",
    "# take p randomly between 1/24999 and 1\n",
    "for p in ps:\n",
    "    g2 = preferentialG(n, p)\n",
    "    analyzer_g2 = Analyzer(g2)\n",
    "    print(len(g2.edges()))\n",
    "    plt = analyzer_g2.get_degree_distribution()\n",
    "    plt.show()"
   ]
  },
  {
   "cell_type": "markdown",
   "metadata": {},
   "source": [
    "# Generalized Watts-Strogatz"
   ]
  },
  {
   "cell_type": "code",
   "execution_count": null,
   "metadata": {},
   "outputs": [],
   "source": [
    "import networkx as nx\n",
    "import numpy as np\n",
    "from networks_gen import GenWS2DG\n",
    "\n",
    "# degree_distribution = [d for _, d in G.degree()]\n",
    "\n",
    "# min = np.min(degree_distribution)\n",
    "# max = np.max(degree_distribution)\n",
    "\n",
    "# # normalize the degree distribution beteen 0 and max - min\n",
    "# normalized_degree_distribution = [d - min for d in degree_distribution]\n",
    "\n",
    "# normalized_degree_distribution = normalized_degree_distribution[:3000]\n",
    "\n",
    "# if np.sum(normalized_degree_distribution) % 2 != 0:\n",
    "#     normalized_degree_distribution[-1] += 1\n",
    "\n",
    "# Generate the small graph\n",
    "small_graph = GenWS2DG(2500, 1, 1000, 1)\n",
    "\n",
    "# Compute the degree distribution of the small graph\n",
    "analyzer_g2 = Analyzer(small_graph)\n",
    "plt = analyzer_g2.get_degree_distribution()\n",
    "plt.show()"
   ]
  },
  {
   "cell_type": "markdown",
   "metadata": {},
   "source": [
    "# Affiliation Networks"
   ]
  },
  {
   "cell_type": "code",
   "execution_count": null,
   "metadata": {},
   "outputs": [],
   "source": [
    "# load net_2 \n",
    "import networkx as nx\n",
    "\n",
    "G = nx.read_edgelist('net_2')"
   ]
  },
  {
   "cell_type": "code",
   "execution_count": null,
   "metadata": {},
   "outputs": [],
   "source": [
    "comm = nx.community.louvain_communities(G)\n",
    "\n",
    "print(len(comm))\n",
    "\n",
    "for c in comm:\n",
    "    print(len(c))"
   ]
  },
  {
   "cell_type": "code",
   "execution_count": null,
   "metadata": {},
   "outputs": [],
   "source": [
    "from networks_gen import affiliationG\n",
    "import math\n",
    "\n",
    "# n = number of nodes\n",
    "# m = number of communities\n",
    "# q = probability of preferential affiliation to communities\n",
    "# c = maximum number of communities to which one node may be affiliated\n",
    "# p = probability of an inter-community edge (strong ties)\n",
    "# s = number of out-community edges (weak ties)\n",
    "\n",
    "n = len(G.nodes()) # n = number of nodes\n",
    "m = len(comm) # m = number of communities\n",
    "c = 3\n",
    "\n",
    "# for each community compute the number of out-community edges\n",
    "out_edges = {}\n",
    "in_edges = {}\n",
    "\n",
    "# for each node save the number of out-community edges and the number of in-community edges as well as the community to which it belongs\n",
    "for i, c in enumerate(comm):\n",
    "    for n in c:\n",
    "        out_edges[(n, i)] = 0\n",
    "        in_edges[(n, i)] = 0\n",
    "        for n2 in G.neighbors(n):\n",
    "            if n2 not in c:\n",
    "                out_edges[(n, i)] += 1\n",
    "            else:\n",
    "                in_edges[(n, i)] += 1"
   ]
  },
  {
   "cell_type": "code",
   "execution_count": null,
   "metadata": {},
   "outputs": [],
   "source": [
    "# for each community compute the mean number of out-community edges of its nodes\n",
    "s = 0\n",
    "for i, c in enumerate(comm):\n",
    "    mean = 0\n",
    "    for n in c:\n",
    "        mean += out_edges[(n, i)]\n",
    "    mean /= len(c)\n",
    "    s += mean\n",
    "s /= m\n",
    "s = math.ceil(s)\n",
    "\n",
    "print('Mean number of out-community edges of nodes in the whole network')\n",
    "print(s)\n",
    "    \n",
    "# for each node compute the probability of having an in-community edge\n",
    "p_in = {}\n",
    "for i, c in enumerate(comm):\n",
    "    for n in c:\n",
    "        if (n, i) in out_edges and (n, i) in in_edges:\n",
    "            p_in[(n, i)] = in_edges[(n, i)] / (in_edges[(n, i)] + out_edges[(n, i)])\n",
    "        elif (n, i) in in_edges:\n",
    "            p_in[(n, i)] = 1\n",
    "        else:\n",
    "            p_in[(n, i)] = 0\n",
    "            \n",
    "# for each community compute the probability of having an inter-community edge\n",
    "p_inter = {}\n",
    "for i, c in enumerate(comm):\n",
    "    # make the mean of the probability of having an inter-community edge for each node in the community\n",
    "    mean = 0\n",
    "    for n in c:\n",
    "        mean += p_in[(n, i)]\n",
    "    mean /= len(c)\n",
    "    p_inter[i] = mean\n",
    "            \n",
    "# weighted mean of the probability of having an inter-community edge for each community\n",
    "p = 0\n",
    "for i in p_inter:\n",
    "    p += p_inter[i] * len(comm[i])\n",
    "p /= len(G.nodes())\n",
    "        \n",
    "print('Probability of having an inter-community edge')\n",
    "print(p)"
   ]
  },
  {
   "cell_type": "code",
   "execution_count": null,
   "metadata": {},
   "outputs": [],
   "source": [
    "from networks_gen import affiliationG\n",
    "\n",
    "n = len(G.nodes()) # n = number of nodes\n",
    "m = 4\n",
    "c_values = range(1, m)\n",
    "q = 0.12\n",
    "p_values = [0.04, 0.05]\n",
    "\n",
    "for c in c_values:\n",
    "    for p in p_values:\n",
    "        graph = affiliationG(n, m, q, c, p, s)\n",
    "        print(len(graph.edges()))\n",
    "        analyzer = Analyzer(graph)\n",
    "        plt = analyzer.get_degree_distribution()\n",
    "        plt.show()"
   ]
  }
 ],
 "metadata": {
  "kernelspec": {
   "display_name": "venv",
   "language": "python",
   "name": "python3"
  },
  "language_info": {
   "codemirror_mode": {
    "name": "ipython",
    "version": 3
   },
   "file_extension": ".py",
   "mimetype": "text/x-python",
   "name": "python",
   "nbconvert_exporter": "python",
   "pygments_lexer": "ipython3",
   "version": "3.10.12"
  }
 },
 "nbformat": 4,
 "nbformat_minor": 2
}
