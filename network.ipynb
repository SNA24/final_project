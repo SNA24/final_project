{
 "cells": [
  {
   "cell_type": "code",
   "execution_count": 3,
   "metadata": {},
   "outputs": [],
   "source": [
    "def stream_diam(G):\n",
    "    step = 0\n",
    "\n",
    "    # At the beginning, R contains for each vertex v the number of nodes that can be reached from v in one step\n",
    "    R={v:G.degree(v) for v in G.nodes()}\n",
    "    done = False\n",
    "\n",
    "    while not done:\n",
    "        done = True\n",
    "        for edge in G.edges():\n",
    "            # At the i-th iteration, we change the value of R if there is at least one node that may be reached from v in i steps but not in i steps\n",
    "            # I realize that this is the case, because I have a neighbor that in i-1 steps is able to visit a number of vertices different from how many I am able to visit\n",
    "            if R[edge[0]] != R[edge[1]]:\n",
    "                R[edge[0]] = max(R[edge[0]],R[edge[1]])\n",
    "                R[edge[1]] = R[edge[0]]\n",
    "                done = False\n",
    "        step += 1\n",
    "\n",
    "    return step"
   ]
  },
  {
   "cell_type": "code",
   "execution_count": 4,
   "metadata": {},
   "outputs": [],
   "source": [
    "import networkx as nx\n",
    "import matplotlib.pyplot as plt\n",
    "import numpy as np\n",
    "import math\n",
    "\n",
    "class Analyzer:\n",
    "    \n",
    "    def __init__(self, network):\n",
    "        self.network = network\n",
    "        \n",
    "    def get_degree_distribution(self):\n",
    "        \"Returns the plot of the degree distribution with a log-log scale\"\n",
    "        \n",
    "        # if the network is directed, we consider the in-degree\n",
    "        degree_sequence = sorted([d for n, d in self.network.in_degree()], reverse=True) if nx.is_directed(self.network) else sorted([d for n, d in self.network.degree()], reverse=True)\n",
    "            \n",
    "        degree_freq = {}\n",
    "        for d in degree_sequence:\n",
    "            if d in degree_freq:\n",
    "                degree_freq[d] += 1\n",
    "            else:\n",
    "                degree_freq[d] = 1\n",
    "                \n",
    "        # Extract degrees and frequencies\n",
    "        degrees = list(degree_freq.keys())\n",
    "        frequencies = list(degree_freq.values())\n",
    "\n",
    "        # Plotting in log-log scale\n",
    "        plt.figure(figsize=(8, 6))\n",
    "        plt.loglog(degrees, frequencies, marker='o', linestyle='None', color='b')\n",
    "        plt.title('Log-log Degree Distribution')\n",
    "        plt.xlabel('Degree (log scale)')\n",
    "        plt.ylabel('Frequency (log scale)')\n",
    "        plt.grid(True)\n",
    "\n",
    "        return plt\n",
    "    \n",
    "    def get_clustering_coefficient(self):\n",
    "        \"Returns the average clustering coefficient of the network\"\n",
    "        return nx.average_clustering(self.network)\n",
    "    \n",
    "    def get_diameter(self):\n",
    "        \"Returns the diameter of the network\"\n",
    "        return stream_diam(self.network)"
   ]
  },
  {
   "cell_type": "code",
   "execution_count": 7,
   "metadata": {},
   "outputs": [
    {
     "name": "stdout",
     "output_type": "stream",
     "text": [
      "25000\n",
      "23000065\n"
     ]
    },
    {
     "data": {
      "image/png": "[encoded data removed]",
      "text/plain": [
       "<Figure size 800x600 with 1 Axes>"
      ]
     },
     "metadata": {},
     "output_type": "display_data"
    }
   ],
   "source": [
    "G = nx.Graph()  \n",
    "    \n",
    "f = open('net_2', 'r')\n",
    "\n",
    "for line in f:\n",
    "    line = line.split()\n",
    "    G.add_edge(int(line[0]), int(line[1]))\n",
    "    \n",
    "f.close()\n",
    "        \n",
    "print(G.number_of_nodes())\n",
    "print(G.number_of_edges())\n",
    "\n",
    "analyzer = Analyzer(G)\n",
    "plt = analyzer.get_degree_distribution()\n",
    "plt.show()"
   ]
  },
  {
   "cell_type": "code",
   "execution_count": 8,
   "metadata": {},
   "outputs": [
    {
     "name": "stdout",
     "output_type": "stream",
     "text": [
      "Number of nodes: 25000 \n",
      "Number of edges: 23000065\n",
      "Diameter: 3\n",
      "ln n: 10.126631103850338\n"
     ]
    }
   ],
   "source": [
    "# print number of nodes and edges\n",
    "print(\"Number of nodes:\", G.number_of_nodes(), \"\\nNumber of edges:\", G.number_of_edges())\n",
    "\n",
    "# check if the diameter is ln n\n",
    "print(\"Diameter:\", analyzer.get_diameter())\n",
    "\n",
    "print(\"ln n:\", math.log(G.number_of_nodes()))"
   ]
  }
 ],
 "metadata": {
  "kernelspec": {
   "display_name": "venv",
   "language": "python",
   "name": "python3"
  },
  "language_info": {
   "codemirror_mode": {
    "name": "ipython",
    "version": 3
   },
   "file_extension": ".py",
   "mimetype": "text/x-python",
   "name": "python",
   "nbconvert_exporter": "python",
   "pygments_lexer": "ipython3",
   "version": "3.10.12"
  }
 },
 "nbformat": 4,
 "nbformat_minor": 2
}
